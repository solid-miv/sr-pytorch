{
  "cells": [
    {
      "cell_type": "markdown",
      "source": [
        "# SRCNN - 2x"
      ],
      "metadata": {
        "id": "3cytO8r6COfZ"
      }
    },
    {
      "cell_type": "markdown",
      "source": [
        "## Imports"
      ],
      "metadata": {
        "id": "7LHXUbD7FKK1"
      }
    },
    {
      "cell_type": "code",
      "source": [
        "import os\n",
        "import zipfile"
      ],
      "metadata": {
        "id": "uMQLiTpEFqCu"
      },
      "execution_count": null,
      "outputs": []
    },
    {
      "cell_type": "code",
      "source": [
        "import requests\n",
        "import torch\n",
        "import torch.nn as nn\n",
        "import torch.optim as optim\n",
        "import matplotlib.pyplot as plt\n",
        "from torch.utils.data import Dataset, DataLoader\n",
        "from torchvision import transforms\n",
        "from torchvision.datasets import ImageFolder\n",
        "from torchvision.transforms import ToTensor, Resize\n",
        "from tqdm import tqdm\n",
        "from PIL import Image"
      ],
      "metadata": {
        "id": "vjAW8ygj-4Q0"
      },
      "execution_count": null,
      "outputs": []
    },
    {
      "cell_type": "code",
      "source": [
        "print(torch.__version__)"
      ],
      "metadata": {
        "colab": {
          "base_uri": "https://localhost:8080/"
        },
        "id": "G4YuofCjTEnf",
        "outputId": "c765538a-5149-4947-fafa-f6b975a3b6b9"
      },
      "execution_count": null,
      "outputs": [
        {
          "output_type": "stream",
          "name": "stdout",
          "text": [
            "2.4.0+cu121\n"
          ]
        }
      ]
    },
    {
      "cell_type": "markdown",
      "source": [
        "## SRCNN Architecture (2x)"
      ],
      "metadata": {
        "id": "32EQcPvYFMNJ"
      }
    },
    {
      "cell_type": "code",
      "source": [
        "class SRCNN(nn.Module):\n",
        "    def __init__(self):\n",
        "        super(SRCNN, self).__init__()\n",
        "        self.conv1 = nn.Conv2d(3, 64, kernel_size=9, padding=4)\n",
        "        self.conv2 = nn.Conv2d(64, 32, kernel_size=1, padding=0)\n",
        "        self.conv3 = nn.Conv2d(32, 3, kernel_size=5, padding=2)\n",
        "        self.relu = nn.ReLU(inplace=True)\n",
        "        self.upsample = nn.Upsample(scale_factor=2, mode='bicubic', align_corners=False)\n",
        "\n",
        "    def forward(self, x):\n",
        "        x = self.upsample(x)\n",
        "        x = self.relu(self.conv1(x))\n",
        "        x = self.relu(self.conv2(x))\n",
        "        x = self.conv3(x)\n",
        "        return x"
      ],
      "metadata": {
        "id": "e-qU_omeFOXv"
      },
      "execution_count": null,
      "outputs": []
    },
    {
      "cell_type": "markdown",
      "source": [
        "## Download the dataset"
      ],
      "metadata": {
        "id": "LfJzN5W3Fv-m"
      }
    },
    {
      "cell_type": "code",
      "source": [
        "def download_div2k_dataset(output_dir):\n",
        "    os.makedirs(output_dir, exist_ok=True)\n",
        "    urls = {\n",
        "        'train': 'http://data.vision.ee.ethz.ch/cvl/DIV2K/DIV2K_train_HR.zip',\n",
        "        'valid': 'http://data.vision.ee.ethz.ch/cvl/DIV2K/DIV2K_valid_HR.zip'\n",
        "    }\n",
        "\n",
        "    for dataset_type, url in urls.items():\n",
        "        output_path = os.path.join(output_dir, f'DIV2K_{dataset_type}_HR.zip')\n",
        "\n",
        "        response = requests.get(url, stream=True)\n",
        "        total_size = int(response.headers.get('content-length', 0))\n",
        "\n",
        "        with open(output_path, 'wb') as file, tqdm(\n",
        "            desc=f'{dataset_type.capitalize()} Dataset',\n",
        "            total=total_size,\n",
        "            unit='iB',\n",
        "            unit_scale=True,\n",
        "            unit_divisor=1024,\n",
        "        ) as progress_bar:\n",
        "            for data in response.iter_content(chunk_size=1024):\n",
        "                size = file.write(data)\n",
        "                progress_bar.update(size)\n",
        "\n",
        "        with zipfile.ZipFile(output_path, 'r') as zip_ref:\n",
        "            zip_ref.extractall(output_dir)\n",
        "\n",
        "        os.remove(output_path)\n",
        "\n",
        "    print(\"Dataset downloaded and extracted successfully.\")\n",
        "    return os.path.join(output_dir, 'DIV2K_train_HR'), os.path.join(output_dir, 'DIV2K_valid_HR')"
      ],
      "metadata": {
        "id": "-qcleyYwFxnJ"
      },
      "execution_count": null,
      "outputs": []
    },
    {
      "cell_type": "markdown",
      "source": [
        "## Custom Dataset"
      ],
      "metadata": {
        "id": "__xKzxRga4Tw"
      }
    },
    {
      "cell_type": "code",
      "source": [
        "class DIV2KDataset(Dataset):\n",
        "    def __init__(self, hr_dir, scale_factor=2, lr_size=(128, 128), transform=None):\n",
        "        self.hr_dir = hr_dir\n",
        "        self.scale_factor = scale_factor\n",
        "        self.lr_size = lr_size\n",
        "        self.hr_size = (lr_size[0] * scale_factor, lr_size[1] * scale_factor)\n",
        "        self.transform = transform\n",
        "        self.image_files = [f for f in os.listdir(hr_dir) if f.endswith('.png')]\n",
        "\n",
        "    def __len__(self):\n",
        "        return len(self.image_files)\n",
        "\n",
        "    def __getitem__(self, idx):\n",
        "        img_name = self.image_files[idx]\n",
        "        img_path = os.path.join(self.hr_dir, img_name)\n",
        "        image = Image.open(img_path).convert('RGB')\n",
        "\n",
        "        lr_image = image.resize(self.lr_size, Image.BICUBIC)\n",
        "\n",
        "        hr_image = image.resize(self.hr_size, Image.BICUBIC)\n",
        "\n",
        "        if self.transform:\n",
        "            lr_image = self.transform(lr_image)\n",
        "            hr_image = self.transform(hr_image)\n",
        "\n",
        "        return lr_image, hr_image"
      ],
      "metadata": {
        "id": "ItLwhth_a5sW"
      },
      "execution_count": null,
      "outputs": []
    },
    {
      "cell_type": "markdown",
      "source": [
        "## Dataloaders"
      ],
      "metadata": {
        "id": "BPygseK2GiVy"
      }
    },
    {
      "cell_type": "code",
      "source": [
        "def create_dataloaders(train_dir, val_dir, batch_size=16):\n",
        "    transform = transforms.Compose([\n",
        "        ToTensor(),\n",
        "    ])\n",
        "\n",
        "    train_dataset = DIV2KDataset(train_dir, scale_factor=2, lr_size=(128, 128), transform=transform)\n",
        "    val_dataset = DIV2KDataset(val_dir, scale_factor=2, lr_size=(128, 128), transform=transform)\n",
        "\n",
        "    train_loader = DataLoader(train_dataset, batch_size=batch_size, shuffle=True)\n",
        "    val_loader = DataLoader(val_dataset, batch_size=batch_size)\n",
        "\n",
        "    return train_loader, val_loader"
      ],
      "metadata": {
        "id": "rxlYQLoZGjjS"
      },
      "execution_count": null,
      "outputs": []
    },
    {
      "cell_type": "markdown",
      "source": [
        "## Train function"
      ],
      "metadata": {
        "id": "laLUn3WoGa89"
      }
    },
    {
      "cell_type": "code",
      "source": [
        "def train_srcnn(model, train_loader, val_loader, num_epochs, learning_rate, device):\n",
        "    model = model.to(device)\n",
        "    criterion = nn.MSELoss()\n",
        "    optimizer = optim.Adam(model.parameters(), lr=learning_rate)\n",
        "\n",
        "    for epoch in range(num_epochs):\n",
        "        model.train()\n",
        "        train_loss = 0.0\n",
        "        train_pbar = tqdm(train_loader, desc=f'Epoch {epoch+1}/{num_epochs} [Train]')\n",
        "        for low_res, high_res in train_pbar:\n",
        "            low_res, high_res = low_res.to(device), high_res.to(device)\n",
        "\n",
        "            optimizer.zero_grad()\n",
        "            outputs = model(low_res)\n",
        "            loss = criterion(outputs, high_res)\n",
        "            loss.backward()\n",
        "            optimizer.step()\n",
        "\n",
        "            train_loss += loss.item()\n",
        "            train_pbar.set_postfix({'loss': f'{train_loss/len(train_loader):.4f}'})\n",
        "\n",
        "        model.eval()\n",
        "        val_loss = 0.0\n",
        "        val_pbar = tqdm(val_loader, desc=f'Epoch {epoch+1}/{num_epochs} [Val]')\n",
        "        with torch.no_grad():\n",
        "            for low_res, high_res in val_pbar:\n",
        "                low_res, high_res = low_res.to(device), high_res.to(device)\n",
        "\n",
        "                outputs = model(low_res)\n",
        "                loss = criterion(outputs, high_res)\n",
        "                val_loss += loss.item()\n",
        "                val_pbar.set_postfix({'loss': f'{val_loss/len(val_loader):.4f}'})\n",
        "\n",
        "        print(f\"Epoch [{epoch+1}/{num_epochs}], Train Loss: {train_loss/len(train_loader):.4f}, Val Loss: {val_loss/len(val_loader):.4f}\")\n",
        "\n",
        "    return model"
      ],
      "metadata": {
        "id": "rgR7jPAxGaeh"
      },
      "execution_count": null,
      "outputs": []
    },
    {
      "cell_type": "markdown",
      "source": [
        "## Testing"
      ],
      "metadata": {
        "id": "7Iae7AobGmMC"
      }
    },
    {
      "cell_type": "code",
      "source": [
        "def test_srcnn(model, image_path, device):\n",
        "    model = model.to(device)\n",
        "    model.eval()\n",
        "\n",
        "    transform = transforms.Compose([\n",
        "        ToTensor(),\n",
        "    ])\n",
        "\n",
        "    img = Image.open(image_path).convert('RGB')\n",
        "\n",
        "    low_res_img = img.resize((img.width // 2, img.height // 2), Image.BICUBIC)\n",
        "\n",
        "    img_tensor = transform(low_res_img).unsqueeze(0).to(device)\n",
        "\n",
        "    with torch.no_grad():\n",
        "        output = model(img_tensor)\n",
        "\n",
        "    super_res_img = transforms.ToPILImage()(output.squeeze().cpu())\n",
        "\n",
        "    low_res_shape = low_res_img.size\n",
        "    super_res_shape = super_res_img.size\n",
        "\n",
        "    return low_res_img, super_res_img, low_res_shape, super_res_shape"
      ],
      "metadata": {
        "id": "SPbnYpReGpWP"
      },
      "execution_count": null,
      "outputs": []
    },
    {
      "cell_type": "markdown",
      "source": [
        "## Main execution"
      ],
      "metadata": {
        "id": "jysXsWsSHNhm"
      }
    },
    {
      "cell_type": "code",
      "source": [
        "# set up CUDA\n",
        "device = torch.device(\"cuda\" if torch.cuda.is_available() else \"cpu\")\n",
        "print(f\"Using device: {device}\")"
      ],
      "metadata": {
        "colab": {
          "base_uri": "https://localhost:8080/"
        },
        "id": "ifsaWkhvKRwh",
        "outputId": "565727cf-a48f-4670-909c-e62c8713e7bd"
      },
      "execution_count": null,
      "outputs": [
        {
          "output_type": "stream",
          "name": "stdout",
          "text": [
            "Using device: cuda\n"
          ]
        }
      ]
    },
    {
      "cell_type": "code",
      "source": [
        "# set the directory for the dataset in Colab\n",
        "dataset_dir = \"DIV2K_dataset\""
      ],
      "metadata": {
        "id": "78AGv437KUuN"
      },
      "execution_count": null,
      "outputs": []
    },
    {
      "cell_type": "code",
      "source": [
        "train_dir, val_dir = download_div2k_dataset(dataset_dir)"
      ],
      "metadata": {
        "colab": {
          "base_uri": "https://localhost:8080/"
        },
        "id": "RA2dBS1lKYqn",
        "outputId": "8fe7bf63-252a-4b48-a5b4-bb9b233d5f22"
      },
      "execution_count": null,
      "outputs": [
        {
          "output_type": "stream",
          "name": "stderr",
          "text": [
            "Train Dataset: 100%|██████████| 3.29G/3.29G [02:26<00:00, 24.0MiB/s]\n",
            "Valid Dataset: 100%|██████████| 428M/428M [00:15<00:00, 29.3MiB/s]\n"
          ]
        },
        {
          "output_type": "stream",
          "name": "stdout",
          "text": [
            "Dataset downloaded and extracted successfully.\n"
          ]
        }
      ]
    },
    {
      "cell_type": "code",
      "source": [
        "# print directory information for debugging\n",
        "print(f\"Train directory: {train_dir}\")\n",
        "print(f\"Validation directory: {val_dir}\")\n",
        "print(f\"Train directory exists: {os.path.exists(train_dir)}\")\n",
        "print(f\"Validation directory exists: {os.path.exists(val_dir)}\")\n",
        "print(f\"Contents of train directory: {os.listdir(train_dir)[:5]}\")\n",
        "print(f\"Contents of validation directory: {os.listdir(val_dir)[:5]}\")"
      ],
      "metadata": {
        "colab": {
          "base_uri": "https://localhost:8080/"
        },
        "id": "7i6H49tQbZwa",
        "outputId": "8d1415f0-fc60-45ab-da8d-83755bbb85e8"
      },
      "execution_count": null,
      "outputs": [
        {
          "output_type": "stream",
          "name": "stdout",
          "text": [
            "Train directory: DIV2K_dataset/DIV2K_train_HR\n",
            "Validation directory: DIV2K_dataset/DIV2K_valid_HR\n",
            "Train directory exists: True\n",
            "Validation directory exists: True\n",
            "Contents of train directory: ['0391.png', '0011.png', '0144.png', '0643.png', '0039.png']\n",
            "Contents of validation directory: ['0869.png', '0875.png', '0822.png', '0882.png', '0813.png']\n"
          ]
        }
      ]
    },
    {
      "cell_type": "code",
      "source": [
        "train_loader, val_loader = create_dataloaders(train_dir, val_dir)"
      ],
      "metadata": {
        "id": "1Cls_fnfKZ2q"
      },
      "execution_count": null,
      "outputs": []
    },
    {
      "cell_type": "code",
      "source": [
        "model = SRCNN()"
      ],
      "metadata": {
        "id": "K_jHTZJmKiR5"
      },
      "execution_count": null,
      "outputs": []
    },
    {
      "cell_type": "code",
      "source": [
        "# hyperparameters\n",
        "num_epochs = 50\n",
        "learning_rate = 0.001"
      ],
      "metadata": {
        "id": "n_cHUSrRKnLM"
      },
      "execution_count": null,
      "outputs": []
    },
    {
      "cell_type": "code",
      "source": [
        "trained_model = train_srcnn(model, train_loader, val_loader, num_epochs, learning_rate, device)"
      ],
      "metadata": {
        "id": "lmvEaRifKrfJ",
        "colab": {
          "base_uri": "https://localhost:8080/"
        },
        "outputId": "a4ea451d-21fb-4336-c74f-587893818df5"
      },
      "execution_count": null,
      "outputs": [
        {
          "metadata": {
            "tags": null
          },
          "name": "stderr",
          "output_type": "stream",
          "text": [
            "Epoch 1/50 [Train]: 100%|██████████| 50/50 [02:19<00:00,  2.79s/it, loss=0.0280]\n",
            "Epoch 1/50 [Val]: 100%|██████████| 7/7 [00:16<00:00,  2.37s/it, loss=0.0099]\n"
          ]
        },
        {
          "metadata": {
            "tags": null
          },
          "name": "stdout",
          "output_type": "stream",
          "text": [
            "Epoch [1/50], Train Loss: 0.0280, Val Loss: 0.0099\n"
          ]
        },
        {
          "metadata": {
            "tags": null
          },
          "name": "stderr",
          "output_type": "stream",
          "text": [
            "Epoch 2/50 [Train]: 100%|██████████| 50/50 [02:18<00:00,  2.77s/it, loss=0.0073]\n",
            "Epoch 2/50 [Val]: 100%|██████████| 7/7 [00:17<00:00,  2.57s/it, loss=0.0062]\n"
          ]
        },
        {
          "metadata": {
            "tags": null
          },
          "name": "stdout",
          "output_type": "stream",
          "text": [
            "Epoch [2/50], Train Loss: 0.0073, Val Loss: 0.0062\n"
          ]
        },
        {
          "metadata": {
            "tags": null
          },
          "name": "stderr",
          "output_type": "stream",
          "text": [
            "Epoch 3/50 [Train]: 100%|██████████| 50/50 [02:17<00:00,  2.75s/it, loss=0.0052]\n",
            "Epoch 3/50 [Val]: 100%|██████████| 7/7 [00:17<00:00,  2.44s/it, loss=0.0049]\n"
          ]
        },
        {
          "metadata": {
            "tags": null
          },
          "name": "stdout",
          "output_type": "stream",
          "text": [
            "Epoch [3/50], Train Loss: 0.0052, Val Loss: 0.0049\n"
          ]
        },
        {
          "metadata": {
            "tags": null
          },
          "name": "stderr",
          "output_type": "stream",
          "text": [
            "Epoch 4/50 [Train]: 100%|██████████| 50/50 [02:17<00:00,  2.75s/it, loss=0.0051]\n",
            "Epoch 4/50 [Val]: 100%|██████████| 7/7 [00:16<00:00,  2.36s/it, loss=0.0043]\n"
          ]
        },
        {
          "metadata": {
            "tags": null
          },
          "name": "stdout",
          "output_type": "stream",
          "text": [
            "Epoch [4/50], Train Loss: 0.0051, Val Loss: 0.0043\n"
          ]
        },
        {
          "metadata": {
            "tags": null
          },
          "name": "stderr",
          "output_type": "stream",
          "text": [
            "Epoch 5/50 [Train]: 100%|██████████| 50/50 [02:16<00:00,  2.74s/it, loss=0.0041]\n",
            "Epoch 5/50 [Val]: 100%|██████████| 7/7 [00:16<00:00,  2.36s/it, loss=0.0038]\n"
          ]
        },
        {
          "metadata": {
            "tags": null
          },
          "name": "stdout",
          "output_type": "stream",
          "text": [
            "Epoch [5/50], Train Loss: 0.0041, Val Loss: 0.0038\n"
          ]
        },
        {
          "metadata": {
            "tags": null
          },
          "name": "stderr",
          "output_type": "stream",
          "text": [
            "Epoch 6/50 [Train]: 100%|██████████| 50/50 [02:16<00:00,  2.73s/it, loss=0.0035]\n",
            "Epoch 6/50 [Val]: 100%|██████████| 7/7 [00:16<00:00,  2.33s/it, loss=0.0035]\n"
          ]
        },
        {
          "metadata": {
            "tags": null
          },
          "name": "stdout",
          "output_type": "stream",
          "text": [
            "Epoch [6/50], Train Loss: 0.0035, Val Loss: 0.0035\n"
          ]
        },
        {
          "metadata": {
            "tags": null
          },
          "name": "stderr",
          "output_type": "stream",
          "text": [
            "Epoch 7/50 [Train]: 100%|██████████| 50/50 [02:18<00:00,  2.76s/it, loss=0.0033]\n",
            "Epoch 7/50 [Val]: 100%|██████████| 7/7 [00:16<00:00,  2.39s/it, loss=0.0036]\n"
          ]
        },
        {
          "metadata": {
            "tags": null
          },
          "name": "stdout",
          "output_type": "stream",
          "text": [
            "Epoch [7/50], Train Loss: 0.0033, Val Loss: 0.0036\n"
          ]
        },
        {
          "metadata": {
            "tags": null
          },
          "name": "stderr",
          "output_type": "stream",
          "text": [
            "Epoch 8/50 [Train]: 100%|██████████| 50/50 [02:19<00:00,  2.79s/it, loss=0.0033]\n",
            "Epoch 8/50 [Val]: 100%|██████████| 7/7 [00:17<00:00,  2.55s/it, loss=0.0031]\n"
          ]
        },
        {
          "metadata": {
            "tags": null
          },
          "name": "stdout",
          "output_type": "stream",
          "text": [
            "Epoch [8/50], Train Loss: 0.0033, Val Loss: 0.0031\n"
          ]
        },
        {
          "metadata": {
            "tags": null
          },
          "name": "stderr",
          "output_type": "stream",
          "text": [
            "Epoch 9/50 [Train]: 100%|██████████| 50/50 [02:19<00:00,  2.79s/it, loss=0.0029]\n",
            "Epoch 9/50 [Val]: 100%|██████████| 7/7 [00:17<00:00,  2.46s/it, loss=0.0029]\n"
          ]
        },
        {
          "metadata": {
            "tags": null
          },
          "name": "stdout",
          "output_type": "stream",
          "text": [
            "Epoch [9/50], Train Loss: 0.0029, Val Loss: 0.0029\n"
          ]
        },
        {
          "metadata": {
            "tags": null
          },
          "name": "stderr",
          "output_type": "stream",
          "text": [
            "Epoch 10/50 [Train]: 100%|██████████| 50/50 [02:17<00:00,  2.75s/it, loss=0.0029]\n",
            "Epoch 10/50 [Val]: 100%|██████████| 7/7 [00:16<00:00,  2.34s/it, loss=0.0028]\n"
          ]
        },
        {
          "metadata": {
            "tags": null
          },
          "name": "stdout",
          "output_type": "stream",
          "text": [
            "Epoch [10/50], Train Loss: 0.0029, Val Loss: 0.0028\n"
          ]
        },
        {
          "metadata": {
            "tags": null
          },
          "name": "stderr",
          "output_type": "stream",
          "text": [
            "Epoch 11/50 [Train]: 100%|██████████| 50/50 [02:16<00:00,  2.74s/it, loss=0.0027]\n",
            "Epoch 11/50 [Val]: 100%|██████████| 7/7 [00:16<00:00,  2.34s/it, loss=0.0029]\n"
          ]
        },
        {
          "metadata": {
            "tags": null
          },
          "name": "stdout",
          "output_type": "stream",
          "text": [
            "Epoch [11/50], Train Loss: 0.0027, Val Loss: 0.0029\n"
          ]
        },
        {
          "metadata": {
            "tags": null
          },
          "name": "stderr",
          "output_type": "stream",
          "text": [
            "Epoch 12/50 [Train]: 100%|██████████| 50/50 [02:18<00:00,  2.77s/it, loss=0.0027]\n",
            "Epoch 12/50 [Val]: 100%|██████████| 7/7 [00:16<00:00,  2.36s/it, loss=0.0026]\n"
          ]
        },
        {
          "metadata": {
            "tags": null
          },
          "name": "stdout",
          "output_type": "stream",
          "text": [
            "Epoch [12/50], Train Loss: 0.0027, Val Loss: 0.0026\n"
          ]
        },
        {
          "metadata": {
            "tags": null
          },
          "name": "stderr",
          "output_type": "stream",
          "text": [
            "Epoch 13/50 [Train]: 100%|██████████| 50/50 [02:16<00:00,  2.73s/it, loss=0.0025]\n",
            "Epoch 13/50 [Val]: 100%|██████████| 7/7 [00:16<00:00,  2.39s/it, loss=0.0025]\n"
          ]
        },
        {
          "metadata": {
            "tags": null
          },
          "name": "stdout",
          "output_type": "stream",
          "text": [
            "Epoch [13/50], Train Loss: 0.0025, Val Loss: 0.0025\n"
          ]
        },
        {
          "metadata": {
            "tags": null
          },
          "name": "stderr",
          "output_type": "stream",
          "text": [
            "Epoch 14/50 [Train]: 100%|██████████| 50/50 [02:18<00:00,  2.76s/it, loss=0.0025]\n",
            "Epoch 14/50 [Val]: 100%|██████████| 7/7 [00:16<00:00,  2.42s/it, loss=0.0025]\n"
          ]
        },
        {
          "metadata": {
            "tags": null
          },
          "name": "stdout",
          "output_type": "stream",
          "text": [
            "Epoch [14/50], Train Loss: 0.0025, Val Loss: 0.0025\n"
          ]
        },
        {
          "metadata": {
            "tags": null
          },
          "name": "stderr",
          "output_type": "stream",
          "text": [
            "Epoch 15/50 [Train]: 100%|██████████| 50/50 [02:17<00:00,  2.75s/it, loss=0.0025]\n",
            "Epoch 15/50 [Val]: 100%|██████████| 7/7 [00:17<00:00,  2.47s/it, loss=0.0024]\n"
          ]
        },
        {
          "metadata": {
            "tags": null
          },
          "name": "stdout",
          "output_type": "stream",
          "text": [
            "Epoch [15/50], Train Loss: 0.0025, Val Loss: 0.0024\n"
          ]
        },
        {
          "metadata": {
            "tags": null
          },
          "name": "stderr",
          "output_type": "stream",
          "text": [
            "Epoch 16/50 [Train]: 100%|██████████| 50/50 [02:15<00:00,  2.72s/it, loss=0.0030]\n",
            "Epoch 16/50 [Val]: 100%|██████████| 7/7 [00:17<00:00,  2.48s/it, loss=0.0026]\n"
          ]
        },
        {
          "metadata": {
            "tags": null
          },
          "name": "stdout",
          "output_type": "stream",
          "text": [
            "Epoch [16/50], Train Loss: 0.0030, Val Loss: 0.0026\n"
          ]
        },
        {
          "metadata": {
            "tags": null
          },
          "name": "stderr",
          "output_type": "stream",
          "text": [
            "Epoch 17/50 [Train]: 100%|██████████| 50/50 [02:14<00:00,  2.70s/it, loss=0.0025]\n",
            "Epoch 17/50 [Val]: 100%|██████████| 7/7 [00:17<00:00,  2.47s/it, loss=0.0027]\n"
          ]
        },
        {
          "metadata": {
            "tags": null
          },
          "name": "stdout",
          "output_type": "stream",
          "text": [
            "Epoch [17/50], Train Loss: 0.0025, Val Loss: 0.0027\n"
          ]
        },
        {
          "metadata": {
            "tags": null
          },
          "name": "stderr",
          "output_type": "stream",
          "text": [
            "Epoch 18/50 [Train]: 100%|██████████| 50/50 [02:14<00:00,  2.69s/it, loss=0.0024]\n",
            "Epoch 18/50 [Val]: 100%|██████████| 7/7 [00:17<00:00,  2.46s/it, loss=0.0024]\n"
          ]
        },
        {
          "metadata": {
            "tags": null
          },
          "name": "stdout",
          "output_type": "stream",
          "text": [
            "Epoch [18/50], Train Loss: 0.0024, Val Loss: 0.0024\n"
          ]
        },
        {
          "metadata": {
            "tags": null
          },
          "name": "stderr",
          "output_type": "stream",
          "text": [
            "Epoch 19/50 [Train]: 100%|██████████| 50/50 [02:14<00:00,  2.69s/it, loss=0.0023]\n",
            "Epoch 19/50 [Val]: 100%|██████████| 7/7 [00:17<00:00,  2.47s/it, loss=0.0023]\n"
          ]
        },
        {
          "metadata": {
            "tags": null
          },
          "name": "stdout",
          "output_type": "stream",
          "text": [
            "Epoch [19/50], Train Loss: 0.0023, Val Loss: 0.0023\n"
          ]
        },
        {
          "metadata": {
            "tags": null
          },
          "name": "stderr",
          "output_type": "stream",
          "text": [
            "Epoch 20/50 [Train]: 100%|██████████| 50/50 [02:14<00:00,  2.69s/it, loss=0.0023]\n",
            "Epoch 20/50 [Val]: 100%|██████████| 7/7 [00:17<00:00,  2.49s/it, loss=0.0023]\n"
          ]
        },
        {
          "metadata": {
            "tags": null
          },
          "name": "stdout",
          "output_type": "stream",
          "text": [
            "Epoch [20/50], Train Loss: 0.0023, Val Loss: 0.0023\n"
          ]
        },
        {
          "metadata": {
            "tags": null
          },
          "name": "stderr",
          "output_type": "stream",
          "text": [
            "Epoch 21/50 [Train]: 100%|██████████| 50/50 [02:15<00:00,  2.71s/it, loss=0.0023]\n",
            "Epoch 21/50 [Val]: 100%|██████████| 7/7 [00:17<00:00,  2.46s/it, loss=0.0023]\n"
          ]
        },
        {
          "metadata": {
            "tags": null
          },
          "name": "stdout",
          "output_type": "stream",
          "text": [
            "Epoch [21/50], Train Loss: 0.0023, Val Loss: 0.0023\n"
          ]
        },
        {
          "metadata": {
            "tags": null
          },
          "name": "stderr",
          "output_type": "stream",
          "text": [
            "Epoch 22/50 [Train]: 100%|██████████| 50/50 [02:15<00:00,  2.70s/it, loss=0.0023]\n",
            "Epoch 22/50 [Val]: 100%|██████████| 7/7 [00:17<00:00,  2.43s/it, loss=0.0024]\n"
          ]
        },
        {
          "metadata": {
            "tags": null
          },
          "name": "stdout",
          "output_type": "stream",
          "text": [
            "Epoch [22/50], Train Loss: 0.0023, Val Loss: 0.0024\n"
          ]
        },
        {
          "metadata": {
            "tags": null
          },
          "name": "stderr",
          "output_type": "stream",
          "text": [
            "Epoch 23/50 [Train]: 100%|██████████| 50/50 [02:15<00:00,  2.72s/it, loss=0.0022]\n",
            "Epoch 23/50 [Val]: 100%|██████████| 7/7 [00:16<00:00,  2.42s/it, loss=0.0022]\n"
          ]
        },
        {
          "metadata": {
            "tags": null
          },
          "name": "stdout",
          "output_type": "stream",
          "text": [
            "Epoch [23/50], Train Loss: 0.0022, Val Loss: 0.0022\n"
          ]
        },
        {
          "metadata": {
            "tags": null
          },
          "name": "stderr",
          "output_type": "stream",
          "text": [
            "Epoch 24/50 [Train]: 100%|██████████| 50/50 [02:15<00:00,  2.71s/it, loss=0.0022]\n",
            "Epoch 24/50 [Val]: 100%|██████████| 7/7 [00:16<00:00,  2.38s/it, loss=0.0022]\n"
          ]
        },
        {
          "metadata": {
            "tags": null
          },
          "name": "stdout",
          "output_type": "stream",
          "text": [
            "Epoch [24/50], Train Loss: 0.0022, Val Loss: 0.0022\n"
          ]
        },
        {
          "metadata": {
            "tags": null
          },
          "name": "stderr",
          "output_type": "stream",
          "text": [
            "Epoch 25/50 [Train]: 100%|██████████| 50/50 [02:15<00:00,  2.70s/it, loss=0.0022]\n",
            "Epoch 25/50 [Val]: 100%|██████████| 7/7 [00:16<00:00,  2.39s/it, loss=0.0022]\n"
          ]
        },
        {
          "metadata": {
            "tags": null
          },
          "name": "stdout",
          "output_type": "stream",
          "text": [
            "Epoch [25/50], Train Loss: 0.0022, Val Loss: 0.0022\n"
          ]
        },
        {
          "metadata": {
            "tags": null
          },
          "name": "stderr",
          "output_type": "stream",
          "text": [
            "Epoch 26/50 [Train]: 100%|██████████| 50/50 [02:15<00:00,  2.71s/it, loss=0.0021]\n",
            "Epoch 26/50 [Val]: 100%|██████████| 7/7 [00:16<00:00,  2.37s/it, loss=0.0022]\n"
          ]
        },
        {
          "metadata": {
            "tags": null
          },
          "name": "stdout",
          "output_type": "stream",
          "text": [
            "Epoch [26/50], Train Loss: 0.0021, Val Loss: 0.0022\n"
          ]
        },
        {
          "metadata": {
            "tags": null
          },
          "name": "stderr",
          "output_type": "stream",
          "text": [
            "Epoch 27/50 [Train]: 100%|██████████| 50/50 [02:15<00:00,  2.72s/it, loss=0.0022]\n",
            "Epoch 27/50 [Val]: 100%|██████████| 7/7 [00:16<00:00,  2.36s/it, loss=0.0022]\n"
          ]
        },
        {
          "metadata": {
            "tags": null
          },
          "name": "stdout",
          "output_type": "stream",
          "text": [
            "Epoch [27/50], Train Loss: 0.0022, Val Loss: 0.0022\n"
          ]
        },
        {
          "metadata": {
            "tags": null
          },
          "name": "stderr",
          "output_type": "stream",
          "text": [
            "Epoch 28/50 [Train]: 100%|██████████| 50/50 [02:15<00:00,  2.72s/it, loss=0.0022]\n",
            "Epoch 28/50 [Val]: 100%|██████████| 7/7 [00:16<00:00,  2.33s/it, loss=0.0026]\n"
          ]
        },
        {
          "metadata": {
            "tags": null
          },
          "name": "stdout",
          "output_type": "stream",
          "text": [
            "Epoch [28/50], Train Loss: 0.0022, Val Loss: 0.0026\n"
          ]
        },
        {
          "metadata": {
            "tags": null
          },
          "name": "stderr",
          "output_type": "stream",
          "text": [
            "Epoch 29/50 [Train]: 100%|██████████| 50/50 [02:15<00:00,  2.72s/it, loss=0.0022]\n",
            "Epoch 29/50 [Val]: 100%|██████████| 7/7 [00:16<00:00,  2.35s/it, loss=0.0021]\n"
          ]
        },
        {
          "metadata": {
            "tags": null
          },
          "name": "stdout",
          "output_type": "stream",
          "text": [
            "Epoch [29/50], Train Loss: 0.0022, Val Loss: 0.0021\n"
          ]
        },
        {
          "metadata": {
            "tags": null
          },
          "name": "stderr",
          "output_type": "stream",
          "text": [
            "Epoch 30/50 [Train]: 100%|██████████| 50/50 [02:16<00:00,  2.73s/it, loss=0.0021]\n",
            "Epoch 30/50 [Val]: 100%|██████████| 7/7 [00:16<00:00,  2.37s/it, loss=0.0022]\n"
          ]
        },
        {
          "metadata": {
            "tags": null
          },
          "name": "stdout",
          "output_type": "stream",
          "text": [
            "Epoch [30/50], Train Loss: 0.0021, Val Loss: 0.0022\n"
          ]
        },
        {
          "metadata": {
            "tags": null
          },
          "name": "stderr",
          "output_type": "stream",
          "text": [
            "Epoch 31/50 [Train]: 100%|██████████| 50/50 [02:15<00:00,  2.71s/it, loss=0.0025]\n",
            "Epoch 31/50 [Val]: 100%|██████████| 7/7 [00:16<00:00,  2.34s/it, loss=0.0022]\n"
          ]
        },
        {
          "metadata": {
            "tags": null
          },
          "name": "stdout",
          "output_type": "stream",
          "text": [
            "Epoch [31/50], Train Loss: 0.0025, Val Loss: 0.0022\n"
          ]
        },
        {
          "metadata": {
            "tags": null
          },
          "name": "stderr",
          "output_type": "stream",
          "text": [
            "Epoch 32/50 [Train]: 100%|██████████| 50/50 [02:15<00:00,  2.71s/it, loss=0.0021]\n",
            "Epoch 32/50 [Val]: 100%|██████████| 7/7 [00:16<00:00,  2.37s/it, loss=0.0021]\n"
          ]
        },
        {
          "metadata": {
            "tags": null
          },
          "name": "stdout",
          "output_type": "stream",
          "text": [
            "Epoch [32/50], Train Loss: 0.0021, Val Loss: 0.0021\n"
          ]
        },
        {
          "metadata": {
            "tags": null
          },
          "name": "stderr",
          "output_type": "stream",
          "text": [
            "Epoch 33/50 [Train]: 100%|██████████| 50/50 [02:15<00:00,  2.72s/it, loss=0.0021]\n",
            "Epoch 33/50 [Val]: 100%|██████████| 7/7 [00:16<00:00,  2.34s/it, loss=0.0021]\n"
          ]
        },
        {
          "metadata": {
            "tags": null
          },
          "name": "stdout",
          "output_type": "stream",
          "text": [
            "Epoch [33/50], Train Loss: 0.0021, Val Loss: 0.0021\n"
          ]
        },
        {
          "metadata": {
            "tags": null
          },
          "name": "stderr",
          "output_type": "stream",
          "text": [
            "Epoch 34/50 [Train]: 100%|██████████| 50/50 [02:14<00:00,  2.70s/it, loss=0.0021]\n",
            "Epoch 34/50 [Val]: 100%|██████████| 7/7 [00:16<00:00,  2.36s/it, loss=0.0021]\n"
          ]
        },
        {
          "metadata": {
            "tags": null
          },
          "name": "stdout",
          "output_type": "stream",
          "text": [
            "Epoch [34/50], Train Loss: 0.0021, Val Loss: 0.0021\n"
          ]
        },
        {
          "metadata": {
            "tags": null
          },
          "name": "stderr",
          "output_type": "stream",
          "text": [
            "Epoch 35/50 [Train]: 100%|██████████| 50/50 [02:17<00:00,  2.75s/it, loss=0.0021]\n",
            "Epoch 35/50 [Val]: 100%|██████████| 7/7 [00:16<00:00,  2.37s/it, loss=0.0021]\n"
          ]
        },
        {
          "metadata": {
            "tags": null
          },
          "name": "stdout",
          "output_type": "stream",
          "text": [
            "Epoch [35/50], Train Loss: 0.0021, Val Loss: 0.0021\n"
          ]
        },
        {
          "metadata": {
            "tags": null
          },
          "name": "stderr",
          "output_type": "stream",
          "text": [
            "Epoch 36/50 [Train]: 100%|██████████| 50/50 [02:17<00:00,  2.74s/it, loss=0.0022]\n",
            "Epoch 36/50 [Val]: 100%|██████████| 7/7 [00:16<00:00,  2.35s/it, loss=0.0021]\n"
          ]
        },
        {
          "metadata": {
            "tags": null
          },
          "name": "stdout",
          "output_type": "stream",
          "text": [
            "Epoch [36/50], Train Loss: 0.0022, Val Loss: 0.0021\n"
          ]
        },
        {
          "metadata": {
            "tags": null
          },
          "name": "stderr",
          "output_type": "stream",
          "text": [
            "Epoch 37/50 [Train]: 100%|██████████| 50/50 [02:16<00:00,  2.74s/it, loss=0.0020]\n",
            "Epoch 37/50 [Val]: 100%|██████████| 7/7 [00:16<00:00,  2.35s/it, loss=0.0021]\n"
          ]
        },
        {
          "metadata": {
            "tags": null
          },
          "name": "stdout",
          "output_type": "stream",
          "text": [
            "Epoch [37/50], Train Loss: 0.0020, Val Loss: 0.0021\n"
          ]
        },
        {
          "metadata": {
            "tags": null
          },
          "name": "stderr",
          "output_type": "stream",
          "text": [
            "Epoch 38/50 [Train]: 100%|██████████| 50/50 [02:16<00:00,  2.72s/it, loss=0.0021]\n",
            "Epoch 38/50 [Val]: 100%|██████████| 7/7 [00:16<00:00,  2.33s/it, loss=0.0021]\n"
          ]
        },
        {
          "metadata": {
            "tags": null
          },
          "name": "stdout",
          "output_type": "stream",
          "text": [
            "Epoch [38/50], Train Loss: 0.0021, Val Loss: 0.0021\n"
          ]
        },
        {
          "metadata": {
            "tags": null
          },
          "name": "stderr",
          "output_type": "stream",
          "text": [
            "Epoch 39/50 [Train]: 100%|██████████| 50/50 [02:15<00:00,  2.70s/it, loss=0.0020]\n",
            "Epoch 39/50 [Val]: 100%|██████████| 7/7 [00:16<00:00,  2.32s/it, loss=0.0021]\n"
          ]
        },
        {
          "metadata": {
            "tags": null
          },
          "name": "stdout",
          "output_type": "stream",
          "text": [
            "Epoch [39/50], Train Loss: 0.0020, Val Loss: 0.0021\n"
          ]
        },
        {
          "metadata": {
            "tags": null
          },
          "name": "stderr",
          "output_type": "stream",
          "text": [
            "Epoch 40/50 [Train]: 100%|██████████| 50/50 [02:14<00:00,  2.70s/it, loss=0.0020]\n",
            "Epoch 40/50 [Val]: 100%|██████████| 7/7 [00:16<00:00,  2.30s/it, loss=0.0020]\n"
          ]
        },
        {
          "metadata": {
            "tags": null
          },
          "name": "stdout",
          "output_type": "stream",
          "text": [
            "Epoch [40/50], Train Loss: 0.0020, Val Loss: 0.0020\n"
          ]
        },
        {
          "output_type": "stream",
          "name": "stderr",
          "text": [
            "Epoch 41/50 [Train]: 100%|██████████| 50/50 [02:13<00:00,  2.67s/it, loss=0.0020]\n",
            "Epoch 41/50 [Val]: 100%|██████████| 7/7 [00:16<00:00,  2.35s/it, loss=0.0021]\n"
          ]
        },
        {
          "output_type": "stream",
          "name": "stdout",
          "text": [
            "Epoch [41/50], Train Loss: 0.0020, Val Loss: 0.0021\n"
          ]
        },
        {
          "output_type": "stream",
          "name": "stderr",
          "text": [
            "Epoch 42/50 [Train]: 100%|██████████| 50/50 [02:13<00:00,  2.68s/it, loss=0.0025]\n",
            "Epoch 42/50 [Val]: 100%|██████████| 7/7 [00:17<00:00,  2.43s/it, loss=0.0022]\n"
          ]
        },
        {
          "output_type": "stream",
          "name": "stdout",
          "text": [
            "Epoch [42/50], Train Loss: 0.0025, Val Loss: 0.0022\n"
          ]
        },
        {
          "output_type": "stream",
          "name": "stderr",
          "text": [
            "Epoch 43/50 [Train]: 100%|██████████| 50/50 [02:13<00:00,  2.67s/it, loss=0.0021]\n",
            "Epoch 43/50 [Val]: 100%|██████████| 7/7 [00:16<00:00,  2.42s/it, loss=0.0020]\n"
          ]
        },
        {
          "output_type": "stream",
          "name": "stdout",
          "text": [
            "Epoch [43/50], Train Loss: 0.0021, Val Loss: 0.0020\n"
          ]
        },
        {
          "output_type": "stream",
          "name": "stderr",
          "text": [
            "Epoch 44/50 [Train]: 100%|██████████| 50/50 [02:13<00:00,  2.66s/it, loss=0.0020]\n",
            "Epoch 44/50 [Val]: 100%|██████████| 7/7 [00:16<00:00,  2.41s/it, loss=0.0021]\n"
          ]
        },
        {
          "output_type": "stream",
          "name": "stdout",
          "text": [
            "Epoch [44/50], Train Loss: 0.0020, Val Loss: 0.0021\n"
          ]
        },
        {
          "output_type": "stream",
          "name": "stderr",
          "text": [
            "Epoch 45/50 [Train]: 100%|██████████| 50/50 [02:14<00:00,  2.68s/it, loss=0.0022]\n",
            "Epoch 45/50 [Val]: 100%|██████████| 7/7 [00:16<00:00,  2.29s/it, loss=0.0022]\n"
          ]
        },
        {
          "output_type": "stream",
          "name": "stdout",
          "text": [
            "Epoch [45/50], Train Loss: 0.0022, Val Loss: 0.0022\n"
          ]
        },
        {
          "output_type": "stream",
          "name": "stderr",
          "text": [
            "Epoch 46/50 [Train]: 100%|██████████| 50/50 [02:14<00:00,  2.68s/it, loss=0.0020]\n",
            "Epoch 46/50 [Val]: 100%|██████████| 7/7 [00:16<00:00,  2.38s/it, loss=0.0020]\n"
          ]
        },
        {
          "output_type": "stream",
          "name": "stdout",
          "text": [
            "Epoch [46/50], Train Loss: 0.0020, Val Loss: 0.0020\n"
          ]
        },
        {
          "output_type": "stream",
          "name": "stderr",
          "text": [
            "Epoch 47/50 [Train]: 100%|██████████| 50/50 [02:15<00:00,  2.71s/it, loss=0.0020]\n",
            "Epoch 47/50 [Val]: 100%|██████████| 7/7 [00:16<00:00,  2.32s/it, loss=0.0020]\n"
          ]
        },
        {
          "output_type": "stream",
          "name": "stdout",
          "text": [
            "Epoch [47/50], Train Loss: 0.0020, Val Loss: 0.0020\n"
          ]
        },
        {
          "output_type": "stream",
          "name": "stderr",
          "text": [
            "Epoch 48/50 [Train]: 100%|██████████| 50/50 [02:15<00:00,  2.71s/it, loss=0.0020]\n",
            "Epoch 48/50 [Val]: 100%|██████████| 7/7 [00:16<00:00,  2.36s/it, loss=0.0020]\n"
          ]
        },
        {
          "output_type": "stream",
          "name": "stdout",
          "text": [
            "Epoch [48/50], Train Loss: 0.0020, Val Loss: 0.0020\n"
          ]
        },
        {
          "output_type": "stream",
          "name": "stderr",
          "text": [
            "Epoch 49/50 [Train]: 100%|██████████| 50/50 [02:15<00:00,  2.71s/it, loss=0.0020]\n",
            "Epoch 49/50 [Val]: 100%|██████████| 7/7 [00:17<00:00,  2.49s/it, loss=0.0020]\n"
          ]
        },
        {
          "output_type": "stream",
          "name": "stdout",
          "text": [
            "Epoch [49/50], Train Loss: 0.0020, Val Loss: 0.0020\n"
          ]
        },
        {
          "output_type": "stream",
          "name": "stderr",
          "text": [
            "Epoch 50/50 [Train]: 100%|██████████| 50/50 [02:17<00:00,  2.75s/it, loss=0.0020]\n",
            "Epoch 50/50 [Val]: 100%|██████████| 7/7 [00:16<00:00,  2.39s/it, loss=0.0020]"
          ]
        },
        {
          "output_type": "stream",
          "name": "stdout",
          "text": [
            "Epoch [50/50], Train Loss: 0.0020, Val Loss: 0.0020\n"
          ]
        },
        {
          "output_type": "stream",
          "name": "stderr",
          "text": [
            "\n"
          ]
        }
      ]
    },
    {
      "cell_type": "markdown",
      "source": [
        "## Saving the model"
      ],
      "metadata": {
        "id": "TmayCRPHetqZ"
      }
    },
    {
      "cell_type": "code",
      "source": [
        "# save the trained model\n",
        "torch.save(trained_model.state_dict(), \"srcnn_model_2x.pth\")"
      ],
      "metadata": {
        "id": "FuuppdLtKtoM"
      },
      "execution_count": null,
      "outputs": []
    },
    {
      "cell_type": "markdown",
      "source": [
        "## Load the model"
      ],
      "metadata": {
        "id": "HTRN85hZ88Qs"
      }
    },
    {
      "cell_type": "code",
      "source": [
        "def load_srcnn_model(model_path, device):\n",
        "    model = SRCNN()\n",
        "    model.load_state_dict(torch.load(model_path, map_location=device))\n",
        "    model = model.to(device)\n",
        "    model.eval()\n",
        "    print(f\"Model loaded from {model_path}\")\n",
        "\n",
        "    return model"
      ],
      "metadata": {
        "id": "b_0ERrNs89p4"
      },
      "execution_count": null,
      "outputs": []
    },
    {
      "cell_type": "code",
      "source": [
        "model = load_srcnn_model(\"srcnn_model_2x.pth\", device)"
      ],
      "metadata": {
        "colab": {
          "base_uri": "https://localhost:8080/"
        },
        "id": "EGjKIR1S9Enf",
        "outputId": "4ab24a70-74fa-4dc0-b0ee-09c20d97ce27"
      },
      "execution_count": null,
      "outputs": [
        {
          "output_type": "stream",
          "name": "stdout",
          "text": [
            "Model loaded from srcnn_model_4x.pth\n"
          ]
        },
        {
          "output_type": "stream",
          "name": "stderr",
          "text": [
            "<ipython-input-58-bb91f0b7c842>:3: FutureWarning: You are using `torch.load` with `weights_only=False` (the current default value), which uses the default pickle module implicitly. It is possible to construct malicious pickle data which will execute arbitrary code during unpickling (See https://github.com/pytorch/pytorch/blob/main/SECURITY.md#untrusted-models for more details). In a future release, the default value for `weights_only` will be flipped to `True`. This limits the functions that could be executed during unpickling. Arbitrary objects will no longer be allowed to be loaded via this mode unless they are explicitly allowlisted by the user via `torch.serialization.add_safe_globals`. We recommend you start setting `weights_only=True` for any use case where you don't have full control of the loaded file. Please open an issue on GitHub for any issues related to this experimental feature.\n",
            "  model.load_state_dict(torch.load(model_path, map_location=device))\n"
          ]
        }
      ]
    },
    {
      "cell_type": "markdown",
      "source": [
        "## Image comparison"
      ],
      "metadata": {
        "id": "rVxXcYrievur"
      }
    },
    {
      "cell_type": "code",
      "source": [
        "# test the model on a new image\n",
        "test_image_path = \"quartlenna.png\"\n",
        "low_res_img, super_res_img, low_res_shape, super_res_shape = test_srcnn(model, test_image_path, device)"
      ],
      "metadata": {
        "id": "1rrbaNCXKOSV"
      },
      "execution_count": null,
      "outputs": []
    },
    {
      "cell_type": "code",
      "source": [
        "def display_images(img1, img2, shape1, shape2, title1=\"Original\", title2=\"Super-Resolved\"):\n",
        "    plt.figure(figsize=(20,10))\n",
        "    plt.subplot(121)\n",
        "    plt.imshow(img1)\n",
        "    plt.title(f\"{title1}\\nShape: {shape1[0]}x{shape1[1]}\")\n",
        "    plt.axis('off')\n",
        "    plt.subplot(122)\n",
        "    plt.imshow(img2)\n",
        "    plt.title(f\"{title2}\\nShape: {shape2[0]}x{shape2[1]}\")\n",
        "    plt.axis('off')\n",
        "    plt.show()"
      ],
      "metadata": {
        "id": "f0cdYHGieyDc"
      },
      "execution_count": null,
      "outputs": []
    },
    {
      "cell_type": "code",
      "source": [
        "display_images(low_res_img, super_res_img, low_res_shape, super_res_shape,\n",
        "                \"Input (Low Resolution)\", \"SRCNN Super-Resolution\")"
      ],
      "metadata": {
        "colab": {
          "base_uri": "https://localhost:8080/",
          "height": 644
        },
        "id": "8OeXPOiSfFSG",
        "outputId": "ea979c70-b438-4f59-8668-96bf498a21e1"
      },
      "execution_count": null,
      "outputs": [
        {
          "output_type": "display_data",
          "data": {
            "text/plain": [
              "<Figure size 2000x1000 with 2 Axes>"
            ],
            "image/png": "[encoded data removed]"
          },
          "metadata": {}
        }
      ]
    },
    {
      "cell_type": "markdown",
      "source": [
        "## Conclusion"
      ],
      "metadata": {
        "id": "MGtRy9ya-IgU"
      }
    },
    {
      "cell_type": "markdown",
      "source": [
        "Due to the simplicity of the SRCNN's architecture the *edge artifacts* are visible."
      ],
      "metadata": {
        "id": "mcJOAbEODHxB"
      }
    }
  ],
  "metadata": {
    "accelerator": "GPU",
    "colab": {
      "gpuType": "T4",
      "provenance": []
    },
    "kernelspec": {
      "display_name": "Python 3",
      "name": "python3"
    },
    "language_info": {
      "name": "python"
    }
  },
  "nbformat": 4,
  "nbformat_minor": 0
}